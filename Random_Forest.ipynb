{
  "nbformat": 4,
  "nbformat_minor": 0,
  "metadata": {
    "colab": {
      "provenance": [],
      "authorship_tag": "ABX9TyM+iY2sRXnN4rJSFCgcYkM+",
      "include_colab_link": true
    },
    "kernelspec": {
      "name": "python3",
      "display_name": "Python 3"
    },
    "language_info": {
      "name": "python"
    }
  },
  "cells": [
    {
      "cell_type": "markdown",
      "metadata": {
        "id": "view-in-github",
        "colab_type": "text"
      },
      "source": [
        "<a href=\"https://colab.research.google.com/github/dhasanya/Machine-Learning-Algorithm/blob/main/Random_Forest.ipynb\" target=\"_parent\"><img src=\"https://colab.research.google.com/assets/colab-badge.svg\" alt=\"Open In Colab\"/></a>"
      ]
    },
    {
      "cell_type": "code",
      "execution_count": 4,
      "metadata": {
        "colab": {
          "base_uri": "https://localhost:8080/",
          "height": 106
        },
        "id": "meekW8wBWXjJ",
        "outputId": "fc1d2e56-1cca-4776-f641-e89eac5c5883"
      },
      "outputs": [
        {
          "output_type": "error",
          "ename": "IndentationError",
          "evalue": "unindent does not match any outer indentation level (<tokenize>, line 46)",
          "traceback": [
            "\u001b[0;36m  File \u001b[0;32m\"<tokenize>\"\u001b[0;36m, line \u001b[0;32m46\u001b[0m\n\u001b[0;31m    0       0.82      0.85      0.83       105\u001b[0m\n\u001b[0m    ^\u001b[0m\n\u001b[0;31mIndentationError\u001b[0m\u001b[0;31m:\u001b[0m unindent does not match any outer indentation level\n"
          ]
        }
      ],
      "source": [
        "import pandas as pd\n",
        "from sklearn.model_selection import train_test_split\n",
        "from sklearn.ensemble import RandomForestClassifier\n",
        "from sklearn.metrics import accuracy_score, classification_report\n",
        "import warnings\n",
        "warnings.filterwarnings('ignore')\n",
        "\n",
        "url = \"https://raw.githubusercontent.com/datasciencedojo/datasets/master/titanic.csv\"\n",
        "titanic_data = pd.read_csv(url)\n",
        "\n",
        "titanic_data = titanic_data.dropna(subset=['Survived'])\n",
        "\n",
        "X = titanic_data[['Pclass', 'Sex', 'Age', 'SibSp', 'Parch', 'Fare']]\n",
        "y = titanic_data['Survived']\n",
        "\n",
        "X.loc[:, 'Sex'] = X['Sex'].map({'female': 0, 'male': 1})\n",
        "\n",
        "X.loc[:, 'Age'].fillna(X['Age'].median(), inplace=True)\n",
        "\n",
        "X_train, X_test, y_train, y_test = train_test_split(X, y, test_size=0.2, random_state=42)\n",
        "\n",
        "rf_classifier = RandomForestClassifier(n_estimators=100, random_state=42)\n",
        "\n",
        "rf_classifier.fit(X_train, y_train)\n",
        "\n",
        "y_pred = rf_classifier.predict(X_test)\n",
        "\n",
        "accuracy = accuracy_score(y_test, y_pred)\n",
        "classification_rep = classification_report(y_test, y_pred)\n",
        "\n",
        "print(f\"Accuracy: {accuracy:.2f}\")\n",
        "print(\"\\nClassification Report:\\n\", classification_rep)\n",
        "\n",
        "sample = X_test.iloc[0:1]\n",
        "prediction = rf_classifier.predict(sample)\n",
        "\n",
        "sample_dict = sample.iloc[0].to_dict()\n",
        "print(f\"\\nSample Passenger: {sample_dict}\")\n",
        "print(f\"Predicted Survival: {'Survived' if prediction[0] == 1 else 'Did Not Survive'}\")\n",
        "\n",
        "Accuracy: 0.80\n",
        "\n",
        "Classification Report:\n",
        "               precision    recall  f1-score   support\n",
        "\n",
        "           0       0.82      0.85      0.83       105\n",
        "           1       0.77      0.73      0.75        74\n",
        "\n",
        "    accuracy                           0.80       179\n",
        "   macro avg       0.79      0.79      0.79       179\n",
        "weighted avg       0.80      0.80      0.80       179\n",
        "\n",
        "\n",
        "Sample Passenger: {'Pclass': 3, 'Sex': 1, 'Age': 28.0, 'SibSp': 1, 'Parch': 1, 'Fare': 15.2458}\n",
        "Predicted Survival: Did Not Survive"
      ]
    }
  ]
}